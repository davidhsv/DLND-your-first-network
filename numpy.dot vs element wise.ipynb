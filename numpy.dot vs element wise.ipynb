{
 "cells": [
  {
   "cell_type": "markdown",
   "metadata": {},
   "source": [
    "## Element-wise Multiplication\n",
    "\n",
    "$ \\begin{bmatrix}\n",
    "    0 & 0 & 0 & 0 \\\\\n",
    "    1 & 1 & 1 & 1 \\\\\n",
    "    2 & 2 & 2 & 2 \\\\\n",
    "    3 & 3 & 3 & 3 \\\\\n",
    "\\end{bmatrix}  $ $ * \n",
    " \\begin{bmatrix}\n",
    "    1 & 2 & 3 & 4 \\\\\n",
    "\\end{bmatrix} $ $ = \\begin{bmatrix}\n",
    "    0 & 0 & 0 & 0 \\\\\n",
    "    1 & 1 & 1 & 1 \\\\\n",
    "    2 & 2 & 2 & 2 \\\\\n",
    "    3 & 3 & 3 & 3 \\\\\n",
    "\\end{bmatrix} * \\begin{bmatrix}\n",
    "    1 & 2 & 3 & 4 \\\\\n",
    "    1 & 2 & 3 & 4 \\\\\n",
    "    1 & 2 & 3 & 4 \\\\\n",
    "    1 & 2 & 3 & 4 \\\\\n",
    "\\end{bmatrix} \\longleftarrow BROADCASTING $\n",
    "\n",
    "$ \\begin{bmatrix}\n",
    "    0 & 0 & 0 & 0 \\\\\n",
    "    1 & 1 & 1 & 1 \\\\\n",
    "    2 & 2 & 2 & 2 \\\\\n",
    "    3 & 3 & 3 & 3 \\\\\n",
    "\\end{bmatrix}  $ $ * \n",
    " \\begin{bmatrix}\n",
    "    6 \\\\\n",
    "    7 \\\\\n",
    "    8 \\\\\n",
    "    9 \\\\\n",
    "\\end{bmatrix} $ $ = \\begin{bmatrix}\n",
    "    0 & 0 & 0 & 0 \\\\\n",
    "    1 & 1 & 1 & 1 \\\\\n",
    "    2 & 2 & 2 & 2 \\\\\n",
    "    3 & 3 & 3 & 3 \\\\\n",
    "\\end{bmatrix} * \\begin{bmatrix}\n",
    "    6 & 6 & 6 & 6 \\\\\n",
    "    7 & 7 & 7 & 7 \\\\\n",
    "    8 & 8 & 8 & 8\\\\\n",
    "    9 & 9 & 9 & 9\\\\\n",
    "\\end{bmatrix} \\longleftarrow BROADCASTING $\n",
    "\n",
    "$ \\begin{bmatrix}\n",
    "    1 & 2 & 3 & 4 \\\\\n",
    "\\end{bmatrix}  $ $ * \n",
    " \\begin{bmatrix}\n",
    "    5 \\\\\n",
    "    6 \\\\\n",
    "    7 \\\\\n",
    "    8 \\\\\n",
    "\\end{bmatrix} $ $ =  \\quad BROADCASTING \\longrightarrow  \\begin{bmatrix}\n",
    "    1 & 2 & 3 & 4 \\\\\n",
    "    1 & 2 & 3 & 4 \\\\\n",
    "    1 & 2 & 3 & 4 \\\\\n",
    "    1 & 2 & 3 & 4 \\\\\n",
    "\\end{bmatrix} * \\begin{bmatrix}\n",
    "    5 & 5 & 5 & 5 \\\\\n",
    "    6 & 6 & 6 & 6\\\\\n",
    "    7 & 7 & 7 & 7\\\\ \n",
    "    8 & 8 & 8 & 8\\\\\n",
    "\\end{bmatrix} \\longleftarrow BROADCASTING $\n",
    "\n",
    "* Element-wise operations should occur ** on the same shape ** or broadcast compatible shapes (see prerequisite below)\n",
    "* Order does not matter\n",
    "\n",
    "### Prerequisite:  ###\n",
    "$ A.shape = (A2, \\quad A1) \\longleftarrow A2 = lines, A1 = columns $   \n",
    "$B.shape = (B2, \\quad B1) \\\\ $\n",
    "\n",
    " $ (A2 = B2 \\quad OR \\quad (A2 = 1 \\quad OR\\quad B2 = 1)) $   \n",
    " \n",
    "$ \\quad\\quad AND   $   \n",
    "\n",
    "$(A1 = B1 \\quad OR \\quad (A1 = 1 \\quad OR\\quad B1 = 1)) $\n",
    "### Output shape ###\n",
    "$(max(A2, B2),\\quad max(A1, B1))$"
   ]
  },
  {
   "cell_type": "code",
   "execution_count": 3,
   "metadata": {
    "collapsed": false
   },
   "outputs": [],
   "source": [
    "import numpy as np\n",
    "A = np.array([[0,0,0,0],[1,1,1,1],[2,2,2,2],[3,3,3,3],[4,4,4,4]]) # (5,4) shape - 2 dimensions\n",
    "B = np.array([1,2,3,4]) # (4,) shape - 1 dimension\n",
    "B2d = np.array([[1,2,3,4]]) # (1, 4) shape - 2 dimensions\n",
    "B_broadcasted = np.array([[1,2,3,4],[1,2,3,4],[1,2,3,4],[1,2,3,4],[1,2,3,4]]) # (5,4) shape - 2 dimensions"
   ]
  },
  {
   "cell_type": "code",
   "execution_count": 4,
   "metadata": {
    "collapsed": false
   },
   "outputs": [
    {
     "data": {
      "text/plain": [
       "array([[ 5, 10, 15, 20],\n",
       "       [ 6, 12, 18, 24],\n",
       "       [ 7, 14, 21, 28],\n",
       "       [ 8, 16, 24, 32]])"
      ]
     },
     "execution_count": 4,
     "metadata": {},
     "output_type": "execute_result"
    }
   ],
   "source": [
    "np.array([[1,2,3,4]])*np.array([[5],[6],[7],[8]])"
   ]
  },
  {
   "cell_type": "code",
   "execution_count": 61,
   "metadata": {
    "collapsed": false
   },
   "outputs": [
    {
     "data": {
      "text/plain": [
       "array([[ 0,  0,  0,  0],\n",
       "       [ 1,  2,  3,  4],\n",
       "       [ 2,  4,  6,  8],\n",
       "       [ 3,  6,  9, 12],\n",
       "       [ 4,  8, 12, 16]])"
      ]
     },
     "execution_count": 61,
     "metadata": {},
     "output_type": "execute_result"
    }
   ],
   "source": [
    "B * A"
   ]
  },
  {
   "cell_type": "code",
   "execution_count": 62,
   "metadata": {
    "collapsed": false
   },
   "outputs": [
    {
     "data": {
      "text/plain": [
       "array([[ 0,  0,  0,  0],\n",
       "       [ 1,  2,  3,  4],\n",
       "       [ 2,  4,  6,  8],\n",
       "       [ 3,  6,  9, 12],\n",
       "       [ 4,  8, 12, 16]])"
      ]
     },
     "execution_count": 62,
     "metadata": {},
     "output_type": "execute_result"
    }
   ],
   "source": [
    "A * B_broadcasted"
   ]
  },
  {
   "cell_type": "code",
   "execution_count": 72,
   "metadata": {
    "collapsed": false
   },
   "outputs": [
    {
     "data": {
      "text/plain": [
       "array([[ 0,  0,  0,  0],\n",
       "       [ 1,  2,  3,  4],\n",
       "       [ 2,  4,  6,  8],\n",
       "       [ 3,  6,  9, 12],\n",
       "       [ 4,  8, 12, 16]])"
      ]
     },
     "execution_count": 72,
     "metadata": {},
     "output_type": "execute_result"
    }
   ],
   "source": [
    "B2d * A"
   ]
  },
  {
   "cell_type": "markdown",
   "metadata": {},
   "source": [
    "## Dot product\n",
    "\n",
    "![title](http://www.thinkbiganalytics.com/wp-content/uploads/2015/11/smm2.jpg)\n",
    "\n",
    "* Order does matter\n",
    "\n",
    "### Prerequisite:  ###\n",
    "$ A.shape = (A2, \\quad A1) \\longleftarrow A2 = lines, A1 = columns $   \n",
    "$B.shape = (B2, \\quad B1) \\\\ $\n",
    "  \n",
    "$ A1 = B2 $\n",
    "\n",
    "### Output shape ###\n",
    "$ (A2, B1) $"
   ]
  },
  {
   "cell_type": "code",
   "execution_count": 64,
   "metadata": {
    "collapsed": false
   },
   "outputs": [
    {
     "data": {
      "text/plain": [
       "array([ 0, 10, 20, 30, 40])"
      ]
     },
     "execution_count": 64,
     "metadata": {},
     "output_type": "execute_result"
    }
   ],
   "source": [
    "np.dot(A, B)"
   ]
  },
  {
   "cell_type": "code",
   "execution_count": 65,
   "metadata": {
    "collapsed": false
   },
   "outputs": [
    {
     "ename": "ValueError",
     "evalue": "shapes (5,4) and (1,4) not aligned: 4 (dim 1) != 1 (dim 0)",
     "output_type": "error",
     "traceback": [
      "\u001b[0;31m---------------------------------------------------------------------------\u001b[0m",
      "\u001b[0;31mValueError\u001b[0m                                Traceback (most recent call last)",
      "\u001b[0;32m<ipython-input-65-d33f545ef0eb>\u001b[0m in \u001b[0;36m<module>\u001b[0;34m()\u001b[0m\n\u001b[0;32m----> 1\u001b[0;31m \u001b[0mnp\u001b[0m\u001b[1;33m.\u001b[0m\u001b[0mdot\u001b[0m\u001b[1;33m(\u001b[0m\u001b[0mA\u001b[0m\u001b[1;33m,\u001b[0m \u001b[0mB2d\u001b[0m\u001b[1;33m)\u001b[0m \u001b[1;31m# error\u001b[0m\u001b[1;33m\u001b[0m\u001b[0m\n\u001b[0m",
      "\u001b[0;31mValueError\u001b[0m: shapes (5,4) and (1,4) not aligned: 4 (dim 1) != 1 (dim 0)"
     ]
    }
   ],
   "source": [
    "np.dot(A, B2d) # error"
   ]
  },
  {
   "cell_type": "code",
   "execution_count": 75,
   "metadata": {
    "collapsed": false
   },
   "outputs": [
    {
     "data": {
      "text/plain": [
       "array([[ 0, 10, 20, 30, 40]])"
      ]
     },
     "execution_count": 75,
     "metadata": {},
     "output_type": "execute_result"
    }
   ],
   "source": [
    "np.dot(B2d, A.T) # np.dot(A, B) == np.dot(B2d, A.T)"
   ]
  },
  {
   "cell_type": "code",
   "execution_count": 76,
   "metadata": {
    "collapsed": false
   },
   "outputs": [
    {
     "data": {
      "text/plain": [
       "array([[ 0],\n",
       "       [10],\n",
       "       [20],\n",
       "       [30],\n",
       "       [40]])"
      ]
     },
     "execution_count": 76,
     "metadata": {},
     "output_type": "execute_result"
    }
   ],
   "source": [
    "np.dot(A, B2d.T)"
   ]
  },
  {
   "cell_type": "code",
   "execution_count": null,
   "metadata": {
    "collapsed": true
   },
   "outputs": [],
   "source": []
  }
 ],
 "metadata": {
  "kernelspec": {
   "display_name": "Python 3",
   "language": "python",
   "name": "python3"
  },
  "language_info": {
   "codemirror_mode": {
    "name": "ipython",
    "version": 3
   },
   "file_extension": ".py",
   "mimetype": "text/x-python",
   "name": "python",
   "nbconvert_exporter": "python",
   "pygments_lexer": "ipython3",
   "version": "3.6.0"
  }
 },
 "nbformat": 4,
 "nbformat_minor": 2
}
